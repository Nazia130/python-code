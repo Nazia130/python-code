{
 "cells": [
  {
   "cell_type": "code",
   "execution_count": 6,
   "id": "e20cf16f-f988-45f9-8d5e-862b14a5fbb1",
   "metadata": {},
   "outputs": [
    {
     "name": "stdout",
     "output_type": "stream",
     "text": [
      "The second largest element in the list is 78\n"
     ]
    }
   ],
   "source": [
    "#finding second largest element in a list\n",
    "list=[10,11,23,56,78,99]\n",
    "list.sort()\n",
    "print(\"The second largest element in the list is\",list[-2])"
   ]
  },
  {
   "cell_type": "code",
   "execution_count": 3,
   "id": "f1820d69-b116-48ef-a198-071ccc929768",
   "metadata": {},
   "outputs": [
    {
     "name": "stdout",
     "output_type": "stream",
     "text": [
      "Conversion of celcius temperature into fahrenheit temperature\n"
     ]
    },
    {
     "name": "stdin",
     "output_type": "stream",
     "text": [
      "Enter the temperature in celcius: 100\n"
     ]
    },
    {
     "name": "stdout",
     "output_type": "stream",
     "text": [
      "fahrenheit temperature is: 212.0\n"
     ]
    }
   ],
   "source": [
    "#program to convert celcius temperature to fahrenheit temperature\n",
    "print(\"Conversion of celcius temperature into fahrenheit temperature\")\n",
    "temp=int(input(\"Enter the temperature in celcius:\"))\n",
    "f=temp*1.8+32\n",
    "print(\"fahrenheit temperature is:\",f)\n"
   ]
  },
  {
   "cell_type": "code",
   "execution_count": 4,
   "id": "c12c8040-d2d3-478f-bfcc-9d40f55bcefe",
   "metadata": {},
   "outputs": [
    {
     "name": "stdin",
     "output_type": "stream",
     "text": [
      "Enter a string:  hello\n"
     ]
    },
    {
     "name": "stdout",
     "output_type": "stream",
     "text": [
      "Number of vowels in the string: 2\n"
     ]
    }
   ],
   "source": [
    "#program to find vowels in the string\n",
    "def count_vowels(string):\n",
    "    vowels = \"aeiouAEIOU\"\n",
    "    count = 0\n",
    "    for char in string:\n",
    "        if char in vowels:\n",
    "            count = count+1\n",
    "    return count\n",
    "\n",
    "input_string = input(\"Enter a string: \")\n",
    "print(\"Number of vowels in the string:\", count_vowels(input_string))\n"
   ]
  },
  {
   "cell_type": "code",
   "execution_count": 5,
   "id": "ac3b4eb6-6700-4cce-b072-7d5dc2cd51e2",
   "metadata": {},
   "outputs": [
    {
     "name": "stdout",
     "output_type": "stream",
     "text": [
      "Occurrences of each element in the list:\n",
      "1: 4\n",
      "2: 3\n",
      "3: 2\n",
      "4: 1\n"
     ]
    }
   ],
   "source": [
    "def count_occurrences(lst):\n",
    "    occurrences = {}\n",
    "    for item in lst:\n",
    "        if item in occurrences:\n",
    "            occurrences[item] += 1\n",
    "        else:\n",
    "            occurrences[item] = 1\n",
    "    return occurrences\n",
    "\n",
    "# Test the function\n",
    "input_list = [1, 2, 3, 4, 1, 2, 3, 1, 2, 1]\n",
    "occurrences = count_occurrences(input_list)\n",
    "print(\"Occurrences of each element in the list:\")\n",
    "for element, count in occurrences.items():\n",
    "    print(f\"{element}: {count}\")\n"
   ]
  },
  {
   "cell_type": "code",
   "execution_count": 1,
   "id": "e1743de7-61d2-4306-af22-1edf1fba73d5",
   "metadata": {},
   "outputs": [
    {
     "name": "stdout",
     "output_type": "stream",
     "text": [
      "Apple,Banana,Mango,Grapes\n",
      "\n",
      "Apple, Watermelon, Mango, Grapes\n",
      "\n"
     ]
    }
   ],
   "source": [
    "\n",
    "f=open(\"file1.txt\",\"w\")\n",
    "f.write(\"Apple,Banana,Mango,Grapes\\n\")\n",
    "f=open(\"file1.txt\",\"r\")\n",
    "print(f.read())\n",
    "\n",
    "#replacing Banana with Watermelon\n",
    "f=open(\"file1.txt\",\"w\")\n",
    "f.write(\"Apple, Watermelon, Mango, Grapes\\n\")\n",
    "f=open(\"file1.txt\",\"r\")\n",
    "print(f.read())"
   ]
  },
  {
   "cell_type": "code",
   "execution_count": 4,
   "id": "4edd07fb-3deb-4490-9cc6-81944ff1b3f3",
   "metadata": {},
   "outputs": [
    {
     "name": "stdin",
     "output_type": "stream",
     "text": [
      "Enter a sentence:  hello naziya\n"
     ]
    },
    {
     "name": "stdout",
     "output_type": "stream",
     "text": [
      "Reversed sentence: naziya hello\n"
     ]
    }
   ],
   "source": [
    "def reverse_sentence(sentence):\n",
    "    # Split the sentence into words\n",
    "    words = sentence.split()\n",
    "\n",
    "    # Reverse the order of the words\n",
    "    reversed_words = words[::-1]\n",
    "\n",
    "    # Join the reversed words back into a sentence\n",
    "    reversed_sentence = ' '.join(reversed_words)\n",
    "\n",
    "    return reversed_sentence\n",
    "\n",
    "# Example usage:\n",
    "sentence = input(\"Enter a sentence: \")\n",
    "reversed_sentence = reverse_sentence(sentence)\n",
    "print(\"Reversed sentence:\", reversed_sentence)\n"
   ]
  },
  {
   "cell_type": "code",
   "execution_count": null,
   "id": "c07d2669-c725-4936-aac4-ec35fe2f1e1b",
   "metadata": {},
   "outputs": [],
   "source": []
  }
 ],
 "metadata": {
  "kernelspec": {
   "display_name": "Python 3 (ipykernel)",
   "language": "python",
   "name": "python3"
  },
  "language_info": {
   "codemirror_mode": {
    "name": "ipython",
    "version": 3
   },
   "file_extension": ".py",
   "mimetype": "text/x-python",
   "name": "python",
   "nbconvert_exporter": "python",
   "pygments_lexer": "ipython3",
   "version": "3.12.2"
  }
 },
 "nbformat": 4,
 "nbformat_minor": 5
}
